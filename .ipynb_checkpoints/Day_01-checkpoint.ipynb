{
 "cells": [
  {
   "cell_type": "code",
   "execution_count": null,
   "id": "ca0de576-b355-422e-8ba4-141a959a183e",
   "metadata": {},
   "outputs": [],
   "source": [
    "## "
   ]
  },
  {
   "cell_type": "code",
   "execution_count": 8,
   "id": "6fe5d9e9-ce99-4325-ae54-a32c87a27f01",
   "metadata": {},
   "outputs": [],
   "source": [
    "# Install the libraries using pip if not already installed\n",
    "# !pip install pandas numpy matplotlib\n",
    "# This command uses `!pip install` to install the necessary libraries\n",
    "# for data manipulation (`pandas`), numerical calculations (`numpy`)\n"
   ]
  },
  {
   "cell_type": "markdown",
   "id": "01f3263f-8ebf-44ec-8a75-86ecc379d843",
   "metadata": {},
   "source": [
    "### Install Libraries\n",
    "In this cell, we will install the required libraries if they are not already installed. The following libraries are crucial for our project:\n",
    "- `pandas`: for data manipulation.\n",
    "- `numpy`: for numerical operations.\n"
   ]
  },
  {
   "cell_type": "code",
   "execution_count": 5,
   "id": "641de95d-b4d4-46f1-956c-0a3566593f7a",
   "metadata": {},
   "outputs": [],
   "source": [
    "import pandas as pd\n",
    "import numpy as np\n",
    "import matplotlib.pyplot as plt\n"
   ]
  },
  {
   "cell_type": "code",
   "execution_count": 6,
   "id": "cfff32fb-b7fd-4ee6-8b11-f4ab4239e208",
   "metadata": {},
   "outputs": [
    {
     "ename": "SyntaxError",
     "evalue": "incomplete input (2136062895.py, line 1)",
     "output_type": "error",
     "traceback": [
      "\u001b[1;36m  Cell \u001b[1;32mIn[6], line 1\u001b[1;36m\u001b[0m\n\u001b[1;33m    df = pd.read_csv(\"\"\u001b[0m\n\u001b[1;37m                       ^\u001b[0m\n\u001b[1;31mSyntaxError\u001b[0m\u001b[1;31m:\u001b[0m incomplete input\n"
     ]
    }
   ],
   "source": [
    "df = pd.read_csv(\"\""
   ]
  },
  {
   "cell_type": "code",
   "execution_count": null,
   "id": "ea6f1eb7-4528-40a0-bb8a-77441456ea98",
   "metadata": {},
   "outputs": [],
   "source": []
  }
 ],
 "metadata": {
  "kernelspec": {
   "display_name": "Python 3 (ipykernel)",
   "language": "python",
   "name": "python3"
  },
  "language_info": {
   "codemirror_mode": {
    "name": "ipython",
    "version": 3
   },
   "file_extension": ".py",
   "mimetype": "text/x-python",
   "name": "python",
   "nbconvert_exporter": "python",
   "pygments_lexer": "ipython3",
   "version": "3.10.11"
  }
 },
 "nbformat": 4,
 "nbformat_minor": 5
}
